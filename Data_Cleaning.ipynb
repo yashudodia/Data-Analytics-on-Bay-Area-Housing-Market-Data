{
 "cells": [
  {
   "cell_type": "code",
   "execution_count": 1,
   "id": "65cfbe99",
   "metadata": {},
   "outputs": [],
   "source": [
    "from bs4 import BeautifulSoup as BS\n",
    "import requests\n",
    "from time import sleep\n",
    "from random import randint\n",
    "import pandas as pd\n",
    "import json\n",
    "import re\n",
    "import numpy as np"
   ]
  },
  {
   "cell_type": "code",
   "execution_count": 2,
   "id": "21c4585e",
   "metadata": {},
   "outputs": [],
   "source": [
    "req_headers = {\n",
    "    'accept': 'text/html,application/xhtml+xml,application/xml;q=0.9,image/webp,image/apng,*/*;q=0.8',\n",
    "    'accept-encoding': 'gzip, deflate, br',\n",
    "    'accept-language': 'en-US,en;q=0.8',\n",
    "    'upgrade-insecure-requests': '1',\n",
    "    'user-agent': 'Mozilla/5.0 (Windows NT 10.0; Win64; x64) AppleWebKit/537.36 (KHTML, like Gecko) Chrome/61.0.3163.100 Safari/537.36'\n",
    "}"
   ]
  },
  {
   "cell_type": "markdown",
   "id": "41ea263c",
   "metadata": {},
   "source": [
    "# Scrape Data from Zillow"
   ]
  },
  {
   "cell_type": "markdown",
   "id": "514cedb0",
   "metadata": {},
   "source": [
    "#### Get first 4 pages for each mentioned City"
   ]
  },
  {
   "cell_type": "code",
   "execution_count": 7,
   "id": "0293ee35",
   "metadata": {},
   "outputs": [],
   "source": [
    "base_url = 'https://www.zillow.com/{}-ca/'\n",
    "soup=[]\n",
    "cities = [\n",
    "    'South-San-Francisco',\n",
    "    'San-Mateo',\n",
    "    'Burlingame',\n",
    "    'San-Jose',\n",
    "    'San-Francisco',\n",
    "    'Palo-Alto',\n",
    "    'Santa-Clara',\n",
    "    'Cupertino',\n",
    "    'Milpitas',\n",
    "    'Fremont',\n",
    "    'Union-City',\n",
    "    'Hayward',\n",
    "    'Castro-Valley',\n",
    "    'Berkeley',\n",
    "    'Oakland',\n",
    "    'San-Leandro',\n",
    "    'Pleasanton',\n",
    "    'Dublin',\n",
    "    'San-Ramon',\n",
    "    'Danville'\n",
    "]\n",
    "for city in cities:\n",
    "    for i in list(range(1,5)):\n",
    "        url = base_url.format(city) + \"{}_p/\".format(i)\n",
    "        r = requests.Session().get(url, headers=req_headers)\n",
    "        soup.append(BS(r.content, 'html.parser'))\n",
    "        sleep(2)"
   ]
  },
  {
   "cell_type": "markdown",
   "id": "04434cec",
   "metadata": {},
   "source": [
    "#### Get all Property links from above pages and extract all property attributes\n",
    "Saved the scrapped data to zillow_listing_full.csv to avoid the re-scrapping everytime."
   ]
  },
  {
   "cell_type": "code",
   "execution_count": 12,
   "id": "b0494193",
   "metadata": {},
   "outputs": [],
   "source": [
    "List_details = []\n",
    "for s in soup:\n",
    "    sleep(randint(2,10))\n",
    "    property_links = [a['href'] for a in s('a',{'class':\"list-card-link list-card-link-top-margin\"}) if a.has_attr('href')]\n",
    "    good_urls = list(dict.fromkeys([url for url in property_links]))\n",
    "    #print(good_urls)\n",
    "    streetAdress=[]\n",
    "    city=[]\n",
    "    state=[]\n",
    "    zipcode=[]\n",
    "    for i in good_urls:\n",
    "        info = {}\n",
    "        text_ref = requests.get(i, headers = req_headers)\n",
    "        soup_ref = BS(text_ref.content, \"html.parser\")\n",
    "        script_tag = soup_ref.find('script', id=\"hdpApolloPreloadedData\", type=\"application/json\")\n",
    "        value = re.findall(r'<script id=\"hdpApolloPreloadedData\" type=\"application/json\">(.*?)</script>',\n",
    "                                   script_tag.decode())\n",
    "        json_data = json.loads(\"\".join(value))\n",
    "        final_json = json.loads(json_data['apiCache'])\n",
    "        zpid = i.split('_')[0]\n",
    "        if 'ForSaleDoubleScrollFullRenderQuery' in str(soup_ref):\n",
    "            Tag = 'ForSaleDoubleScrollFullRenderQuery{\"zpid\":' + zpid.split('/')[-1] + ',\"contactFormRenderParameter\":{\"zpid\":' + zpid.split('/')[-1] + ',\"platform\":\"desktop\",\"isDoubleScroll\":true}}'\n",
    "        elif 'NewConstructionInitialRenderSEOQuery' in str(soup_ref):\n",
    "            Tag = 'NewConstructionInitialRenderSEOQuery{\"zpid\":' + zpid.split('/')[-1] + '}'\n",
    "        elif 'OffMarketDoubleScrollFullRenderQuery' in str(soup_ref):\n",
    "             Tag = 'OffMarketDoubleScrollFullRenderQuery{\"zpid\":' + zpid.split('/')[-1] + ',\"contactFormRenderParameter\":{\"zpid\":' + zpid.split('/')[-1] + ',\"platform\":\"desktop\",\"isDoubleScroll\":true}}'\n",
    "        elif 'NotForSaleShopperPlatformFullRenderQuery' in str(soup_ref):\n",
    "            Tag = 'NotForSaleShopperPlatformFullRenderQuery{\"zpid\":' + zpid.split('/')[-1] + ',\"contactFormRenderParameter\":{\"zpid\":' + zpid.split('/')[-1] + ',\"platform\":\"desktop\",\"isDoubleScroll\":true}}'\n",
    "        else:\n",
    "            Tag = None\n",
    "        #Tag= 'ForSaleDoubleScrollFullRenderQuery{\"zpid\":' +zpid.split('/')[-1] + ',\"contactFormRenderParameter\":{\"zpid\":' +zpid.split('/')[-1] + ',\"platform\":\"desktop\",\"isDoubleScroll\":true}}'\n",
    "        #Tag='VariantQuery{\"zpid\":'+zpid.split('/')[-1]+',\"altId\":null}'\n",
    "        try:\n",
    "            info['StreetAddress']=final_json[Tag]['property'].get('streetAddress',None)\n",
    "        except Exception as e:\n",
    "            info['StreetAddress'] = e\n",
    "        try:\n",
    "            info['City']=final_json[Tag]['property'].get('city',None)\n",
    "        except Exception as e:\n",
    "            info['City'] = e\n",
    "        try:\n",
    "            info['State']=final_json[Tag]['property'].get('state',None)\n",
    "        except Exception as e:\n",
    "            info['State'] = e\n",
    "        try:\n",
    "            info['ZipCode']=final_json[Tag]['property'].get('zipcode',None)\n",
    "        except Exception as e:\n",
    "            info['ZipCode'] = e\n",
    "        try:\n",
    "            info['Latitude']=final_json[Tag]['property'].get('latitude',None)\n",
    "        except Exception as e:\n",
    "            info['Latitude'] = e\n",
    "        try:\n",
    "            info['Longitude']=final_json[Tag]['property'].get('longitude',None)\n",
    "        except Exception as e:\n",
    "            info['Longitude'] = e\n",
    "        try:\n",
    "            info['Price']=final_json[Tag]['property'].get('price',None)\n",
    "        except Exception as e:\n",
    "            info['Price'] = e\n",
    "        try:\n",
    "            info['YearBuilt']=final_json[Tag]['property'].get('yearBuilt',None)\n",
    "        except Exception as e:\n",
    "            info['YearBuilt'] = e\n",
    "        try:\n",
    "            info['LotSize']=final_json[Tag]['property'].get('lotSize',None)\n",
    "        except Exception as e:\n",
    "            info['LotSize'] = e\n",
    "        try:\n",
    "            info['HomeType']=final_json[Tag]['property'].get('homeType',None)\n",
    "        except Exception as e:\n",
    "            info['HomeType'] = e\n",
    "        try:\n",
    "            info['Zestimate']=final_json[Tag]['property'].get('zestimate',None)\n",
    "        except Exception as e:\n",
    "            info['Zestimate'] = e\n",
    "        try:\n",
    "            info['Bedrooms']=final_json[Tag]['property'].get('bedrooms',None)\n",
    "        except Exception as e:\n",
    "            info['Bedrooms'] = e\n",
    "        try:\n",
    "            info['Bathrooms']=final_json[Tag]['property'].get('bathrooms',None)\n",
    "        except Exception as e:\n",
    "            info['Bathrooms'] = e\n",
    "        try:\n",
    "            info['LivingArea']=final_json[Tag]['property'].get('livingArea',None)\n",
    "        except Exception as e:\n",
    "            info['LivingArea'] = e\n",
    "        try:\n",
    "            info['HOA']=final_json[Tag]['property'].get('monthlyHoaFee',None)\n",
    "        except Exception as e:\n",
    "            info['HOA'] = e\n",
    "        try:\n",
    "            info['BrokerageName']=final_json[Tag]['property'].get('brokerageName',None)\n",
    "        except Exception as e:\n",
    "            info['BrokerageName'] = e\n",
    "        try:\n",
    "            info['LastSoldPrice']=final_json[Tag]['property'].get('lastSoldPrice',None)\n",
    "        except Exception as e:\n",
    "            info['LastSoldPrice'] = e\n",
    "        try:\n",
    "            info['HomeStatus']=final_json[Tag]['property'].get('homeStatus',None)\n",
    "        except Exception as e:\n",
    "            info['HomeStatus'] = e\n",
    "        try:\n",
    "            info['Parking']=final_json[Tag]['property']['resoFacts'].get('parkingCapacity',None)\n",
    "        except Exception as e:\n",
    "            info['Parking'] = e\n",
    "\n",
    "        sleep(randint(2,10))\n",
    "        List_details.append(info)\n",
    "\n",
    "df= pd.DataFrame(List_details)\n",
    "df.to_csv('zillow_listing_full.csv')"
   ]
  },
  {
   "cell_type": "markdown",
   "id": "31f7e821",
   "metadata": {},
   "source": [
    "# Data Cleaning"
   ]
  },
  {
   "cell_type": "markdown",
   "id": "115d5bce",
   "metadata": {},
   "source": [
    "#### Load data back to data frame"
   ]
  },
  {
   "cell_type": "code",
   "execution_count": 248,
   "id": "5a8c738d",
   "metadata": {},
   "outputs": [
    {
     "data": {
      "text/plain": [
       "StreetAddress    713\n",
       "City             713\n",
       "State            713\n",
       "ZipCode          713\n",
       "Latitude         712\n",
       "Longitude        712\n",
       "Price            713\n",
       "YearBuilt        668\n",
       "LotSize          676\n",
       "HomeType         713\n",
       "Zestimate        603\n",
       "Bedrooms         669\n",
       "Bathrooms        686\n",
       "LivingArea       711\n",
       "HOA              317\n",
       "BrokerageName    713\n",
       "LastSoldPrice    510\n",
       "HomeStatus       713\n",
       "Parking          713\n",
       "dtype: int64"
      ]
     },
     "execution_count": 248,
     "metadata": {},
     "output_type": "execute_result"
    }
   ],
   "source": [
    "df = pd.read_csv('zillow_listing_full.csv', usecols=range(1,20))\n",
    "df.count()"
   ]
  },
  {
   "cell_type": "markdown",
   "id": "ee069b09",
   "metadata": {},
   "source": [
    "#### Remove Duplicates"
   ]
  },
  {
   "cell_type": "code",
   "execution_count": 249,
   "id": "d8d00d85",
   "metadata": {},
   "outputs": [
    {
     "data": {
      "text/plain": [
       "StreetAddress    326\n",
       "City             326\n",
       "State            326\n",
       "ZipCode          326\n",
       "Latitude         325\n",
       "Longitude        325\n",
       "Price            326\n",
       "YearBuilt        303\n",
       "LotSize          309\n",
       "HomeType         326\n",
       "Zestimate        266\n",
       "Bedrooms         295\n",
       "Bathrooms        309\n",
       "LivingArea       324\n",
       "HOA              126\n",
       "BrokerageName    326\n",
       "LastSoldPrice    230\n",
       "HomeStatus       326\n",
       "Parking          326\n",
       "dtype: int64"
      ]
     },
     "execution_count": 249,
     "metadata": {},
     "output_type": "execute_result"
    }
   ],
   "source": [
    "#df.loc[df.duplicated(),:]\n",
    "df.drop_duplicates(inplace = True)\n",
    "df.count()"
   ]
  },
  {
   "cell_type": "markdown",
   "id": "106398a1",
   "metadata": {},
   "source": [
    "#### Remove records where Street Address is not available"
   ]
  },
  {
   "cell_type": "code",
   "execution_count": 250,
   "id": "cee9c6e4",
   "metadata": {},
   "outputs": [
    {
     "data": {
      "text/plain": [
       "StreetAddress    325\n",
       "City             325\n",
       "State            325\n",
       "ZipCode          325\n",
       "Latitude         324\n",
       "Longitude        324\n",
       "Price            325\n",
       "YearBuilt        302\n",
       "LotSize          308\n",
       "HomeType         325\n",
       "Zestimate        265\n",
       "Bedrooms         294\n",
       "Bathrooms        308\n",
       "LivingArea       323\n",
       "HOA              125\n",
       "BrokerageName    325\n",
       "LastSoldPrice    229\n",
       "HomeStatus       325\n",
       "Parking          325\n",
       "dtype: int64"
      ]
     },
     "execution_count": 250,
     "metadata": {},
     "output_type": "execute_result"
    }
   ],
   "source": [
    "df = df[df['StreetAddress'] !='None']\n",
    "df.count()"
   ]
  },
  {
   "cell_type": "markdown",
   "id": "5c6e2de6",
   "metadata": {},
   "source": [
    "#### Check and Remove/Replace missing Values"
   ]
  },
  {
   "cell_type": "code",
   "execution_count": 252,
   "id": "f837fd4e",
   "metadata": {},
   "outputs": [
    {
     "data": {
      "text/plain": [
       "StreetAddress      0\n",
       "City               0\n",
       "State              0\n",
       "ZipCode            0\n",
       "Latitude           1\n",
       "Longitude          1\n",
       "Price              0\n",
       "YearBuilt         23\n",
       "LotSize           17\n",
       "HomeType           0\n",
       "Zestimate         60\n",
       "Bedrooms          31\n",
       "Bathrooms         17\n",
       "LivingArea         2\n",
       "HOA              200\n",
       "BrokerageName      0\n",
       "LastSoldPrice     96\n",
       "HomeStatus         0\n",
       "Parking            0\n",
       "dtype: int64"
      ]
     },
     "execution_count": 252,
     "metadata": {},
     "output_type": "execute_result"
    }
   ],
   "source": [
    "df.isna().sum()"
   ]
  },
  {
   "cell_type": "code",
   "execution_count": 253,
   "id": "01553087",
   "metadata": {},
   "outputs": [
    {
     "data": {
      "text/plain": [
       "StreetAddress    0\n",
       "City             0\n",
       "State            0\n",
       "ZipCode          0\n",
       "Latitude         0\n",
       "Longitude        0\n",
       "Price            0\n",
       "YearBuilt        0\n",
       "LotSize          0\n",
       "HomeType         0\n",
       "Zestimate        0\n",
       "Bedrooms         0\n",
       "Bathrooms        0\n",
       "LivingArea       0\n",
       "HOA              0\n",
       "BrokerageName    0\n",
       "LastSoldPrice    0\n",
       "HomeStatus       0\n",
       "Parking          0\n",
       "dtype: int64"
      ]
     },
     "execution_count": 253,
     "metadata": {},
     "output_type": "execute_result"
    }
   ],
   "source": [
    "df = df.dropna(subset=['YearBuilt', 'LivingArea','Zestimate','Bedrooms','Bathrooms','LotSize'])\n",
    "df.loc[df[\"HOA\"].isna(), \"HOA\"] = 0\n",
    "df.loc[df[\"LastSoldPrice\"].isna(), \"LastSoldPrice\"] = 0\n",
    "df.isna().sum()"
   ]
  },
  {
   "cell_type": "markdown",
   "id": "cfa51a27",
   "metadata": {},
   "source": [
    "#### Check and Update Data types"
   ]
  },
  {
   "cell_type": "code",
   "execution_count": 254,
   "id": "e44b931c",
   "metadata": {},
   "outputs": [
    {
     "data": {
      "text/plain": [
       "StreetAddress    object\n",
       "City             object\n",
       "State            object\n",
       "ZipCode          object\n",
       "Latitude         object\n",
       "Longitude        object\n",
       "Price            object\n",
       "YearBuilt        object\n",
       "LotSize          object\n",
       "HomeType         object\n",
       "Zestimate        object\n",
       "Bedrooms         object\n",
       "Bathrooms        object\n",
       "LivingArea       object\n",
       "HOA              object\n",
       "BrokerageName    object\n",
       "LastSoldPrice    object\n",
       "HomeStatus       object\n",
       "Parking          object\n",
       "dtype: object"
      ]
     },
     "execution_count": 254,
     "metadata": {},
     "output_type": "execute_result"
    }
   ],
   "source": [
    "df.dtypes"
   ]
  },
  {
   "cell_type": "code",
   "execution_count": 255,
   "id": "0977e6a9",
   "metadata": {},
   "outputs": [
    {
     "data": {
      "text/plain": [
       "StreetAddress    object\n",
       "City             object\n",
       "State            object\n",
       "ZipCode          object\n",
       "Latitude         object\n",
       "Longitude        object\n",
       "Price             int32\n",
       "YearBuilt         int32\n",
       "LotSize           int32\n",
       "HomeType         object\n",
       "Zestimate         int32\n",
       "Bedrooms          int32\n",
       "Bathrooms         int32\n",
       "LivingArea        int32\n",
       "HOA               int32\n",
       "BrokerageName    object\n",
       "LastSoldPrice     int32\n",
       "HomeStatus       object\n",
       "Parking           int32\n",
       "dtype: object"
      ]
     },
     "execution_count": 255,
     "metadata": {},
     "output_type": "execute_result"
    }
   ],
   "source": [
    "df['Price'] = df['Price'].astype('int')\n",
    "df['YearBuilt'] = df['YearBuilt'].astype('int')\n",
    "df['LotSize'] = df['LotSize'].astype('int')\n",
    "df['Zestimate'] = df['Zestimate'].astype('int')\n",
    "df['Bedrooms'] = df['Bedrooms'].astype('int')\n",
    "df['Bathrooms'] = df['Bathrooms'].astype('int')\n",
    "df['LivingArea'] = df['LivingArea'].astype('int')\n",
    "df['HOA'] = df['HOA'].astype('int')\n",
    "df['LastSoldPrice'] = df['LastSoldPrice'].astype('int')\n",
    "df['Parking'] = df['Parking'].astype('int')\n",
    "df.dtypes"
   ]
  },
  {
   "cell_type": "markdown",
   "id": "ea436864",
   "metadata": {},
   "source": [
    "#### Create Box plots to check Outliers"
   ]
  },
  {
   "cell_type": "code",
   "execution_count": 256,
   "id": "7d1282b1",
   "metadata": {},
   "outputs": [
    {
     "data": {
      "text/plain": [
       "<AxesSubplot:title={'center':'Box Plot : Parking'}, xlabel='Parking'>"
      ]
     },
     "execution_count": 256,
     "metadata": {},
     "output_type": "execute_result"
    },
    {
     "data": {
      "image/png": "[encoded data removed]",
      "text/plain": [
       "<Figure size 1080x1080 with 7 Axes>"
      ]
     },
     "metadata": {
      "needs_background": "light"
     },
     "output_type": "display_data"
    }
   ],
   "source": [
    "import seaborn as sns #visualisation\n",
    "import matplotlib.pyplot as plt #visualisation\n",
    "fig = plt.figure(figsize=(15,15))\n",
    "plt.subplot(331)\n",
    "plt.title('Box Plot : Price')\n",
    "sns.boxplot(x=df['Price'])\n",
    "\n",
    "plt.subplot(332)\n",
    "plt.title('Box Plot : YearBuilt')\n",
    "sns.boxplot(x=df['YearBuilt'])\n",
    "\n",
    "plt.subplot(333)\n",
    "plt.title('Box Plot : LotSize')\n",
    "sns.boxplot(x=df['LotSize'])\n",
    "\n",
    "plt.subplot(334)\n",
    "plt.title('Box Plot : Bedrooms')\n",
    "sns.boxplot(x=df['Bedrooms'])\n",
    "\n",
    "plt.subplot(335)\n",
    "plt.title('Box Plot : Bathrooms')\n",
    "sns.boxplot(x=df['Bathrooms'])\n",
    "\n",
    "plt.subplot(336)\n",
    "plt.title('Box Plot : LivingArea')\n",
    "sns.boxplot(x=df['LivingArea'])\n",
    "\n",
    "plt.subplot(337)\n",
    "plt.title('Box Plot : Parking')\n",
    "sns.boxplot(x=df['Parking'])"
   ]
  },
  {
   "cell_type": "markdown",
   "id": "bcb96607",
   "metadata": {},
   "source": [
    "#### Identify Outlier records and Remove it"
   ]
  },
  {
   "cell_type": "code",
   "execution_count": 258,
   "id": "6be5f872",
   "metadata": {},
   "outputs": [
    {
     "name": "stdout",
     "output_type": "stream",
     "text": [
      "Outlier row numbers for Price is: (array([ 17,  24,  27,  84,  86,  90,  91,  92,  93,  94,  97,  99, 115,\n",
      "       119, 122, 170], dtype=int64),)\n",
      "Outlier row numbers for YearBuilt is: (array([ 70,  72,  83, 221], dtype=int64),)\n",
      "Outlier row numbers for LotSize is: (array([  1,   7,  11,  28,  67,  72,  74,  76,  78, 134, 139, 148, 163,\n",
      "       170, 201, 208, 220, 239], dtype=int64),)\n",
      "Outlier row numbers for LivingArea is: (array([ 24,  86,  94, 115, 170, 200, 204, 213, 239, 241], dtype=int64),)\n",
      "Outlier row numbers for Parking is: (array([170], dtype=int64),)\n",
      "Outlier row numbers for Bedrooms is: (array([204, 213], dtype=int64),)\n",
      "Outlier row numbers for Bathrooms is: (array([ 94, 115], dtype=int64),)\n"
     ]
    }
   ],
   "source": [
    "df.reset_index(drop=True, inplace=True)\n",
    "lst=[]\n",
    "print('Outlier row numbers for Price is:', np.where(df['Price']>3000000))\n",
    "arr=np.where(df['Price']>3000000)\n",
    "lst.append(arr[0].tolist())\n",
    "print('Outlier row numbers for YearBuilt is:', np.where(df['YearBuilt']<1900))\n",
    "arr=np.where(df['YearBuilt']<1900)\n",
    "lst.append(arr[0].tolist())\n",
    "print('Outlier row numbers for LotSize is:', np.where(df['LotSize']>20000))\n",
    "arr=np.where(df['LotSize']>20000)\n",
    "lst.append(arr[0].tolist())\n",
    "print('Outlier row numbers for LivingArea is:', np.where(df['LivingArea']>3700))\n",
    "arr=np.where(df['LivingArea']>3700)\n",
    "lst.append(arr[0].tolist())\n",
    "print('Outlier row numbers for Parking is:', np.where(df['Parking']>4))\n",
    "arr=np.where(df['Parking']>4)\n",
    "lst.append(arr[0].tolist())\n",
    "print('Outlier row numbers for Bedrooms is:', np.where(df['Bedrooms']>6))\n",
    "arr=np.where(df['Bedrooms']>6)\n",
    "lst.append(arr[0].tolist())\n",
    "print('Outlier row numbers for Bathrooms is:', np.where(df['Bathrooms']>5))\n",
    "arr=np.where(df['Bathrooms']>5)\n",
    "lst.append(arr[0].tolist())\n",
    "flat_list = [item for sublist in lst for item in sublist]"
   ]
  },
  {
   "cell_type": "code",
   "execution_count": 259,
   "id": "be2aaa34",
   "metadata": {},
   "outputs": [
    {
     "data": {
      "text/plain": [
       "StreetAddress    204\n",
       "City             204\n",
       "State            204\n",
       "ZipCode          204\n",
       "Latitude         204\n",
       "Longitude        204\n",
       "Price            204\n",
       "YearBuilt        204\n",
       "LotSize          204\n",
       "HomeType         204\n",
       "Zestimate        204\n",
       "Bedrooms         204\n",
       "Bathrooms        204\n",
       "LivingArea       204\n",
       "HOA              204\n",
       "BrokerageName    204\n",
       "LastSoldPrice    204\n",
       "HomeStatus       204\n",
       "Parking          204\n",
       "dtype: int64"
      ]
     },
     "execution_count": 259,
     "metadata": {},
     "output_type": "execute_result"
    }
   ],
   "source": [
    "df.drop(list(set(flat_list)), inplace = True)\n",
    "df.count()"
   ]
  },
  {
   "cell_type": "markdown",
   "id": "8e3df400",
   "metadata": {},
   "source": [
    "#### Create Box plots to re-verify Outliers"
   ]
  },
  {
   "cell_type": "code",
   "execution_count": 260,
   "id": "2d97d69d",
   "metadata": {},
   "outputs": [
    {
     "data": {
      "text/plain": [
       "<AxesSubplot:title={'center':'Box Plot : Parking'}, xlabel='Parking'>"
      ]
     },
     "execution_count": 260,
     "metadata": {},
     "output_type": "execute_result"
    },
    {
     "data": {
      "image/png": "[encoded data removed]",
      "text/plain": [
       "<Figure size 1080x1080 with 7 Axes>"
      ]
     },
     "metadata": {
      "needs_background": "light"
     },
     "output_type": "display_data"
    }
   ],
   "source": [
    "import seaborn as sns #visualisation\n",
    "import matplotlib.pyplot as plt #visualisation\n",
    "fig = plt.figure(figsize=(15,15))\n",
    "plt.subplot(331)\n",
    "plt.title('Box Plot : Price')\n",
    "sns.boxplot(x=df['Price'])\n",
    "\n",
    "plt.subplot(332)\n",
    "plt.title('Box Plot : YearBuilt')\n",
    "sns.boxplot(x=df['YearBuilt'])\n",
    "\n",
    "plt.subplot(333)\n",
    "plt.title('Box Plot : LotSize')\n",
    "sns.boxplot(x=df['LotSize'])\n",
    "\n",
    "plt.subplot(334)\n",
    "plt.title('Box Plot : Bedrooms')\n",
    "sns.boxplot(x=df['Bedrooms'])\n",
    "\n",
    "plt.subplot(335)\n",
    "plt.title('Box Plot : Bathrooms')\n",
    "sns.boxplot(x=df['Bathrooms'])\n",
    "\n",
    "plt.subplot(336)\n",
    "plt.title('Box Plot : LivingArea')\n",
    "sns.boxplot(x=df['LivingArea'])\n",
    "\n",
    "plt.subplot(337)\n",
    "plt.title('Box Plot : Parking')\n",
    "sns.boxplot(x=df['Parking'])"
   ]
  },
  {
   "cell_type": "markdown",
   "id": "785a3e30",
   "metadata": {},
   "source": [
    "#### Write the Clean data to final_zillow_group7.csv"
   ]
  },
  {
   "cell_type": "code",
   "execution_count": 262,
   "id": "d9459304",
   "metadata": {},
   "outputs": [],
   "source": [
    "df.reset_index(drop=True, inplace=True)\n",
    "df.to_csv(\"final_zillow_group7.csv\")"
   ]
  }
 ],
 "metadata": {
  "kernelspec": {
   "display_name": "Python 3",
   "language": "python",
   "name": "python3"
  },
  "language_info": {
   "codemirror_mode": {
    "name": "ipython",
    "version": 3
   },
   "file_extension": ".py",
   "mimetype": "text/x-python",
   "name": "python",
   "nbconvert_exporter": "python",
   "pygments_lexer": "ipython3",
   "version": "3.8.8"
  }
 },
 "nbformat": 4,
 "nbformat_minor": 5
}
